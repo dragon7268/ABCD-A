{
  "nbformat": 4,
  "nbformat_minor": 0,
  "metadata": {
    "colab": {
      "provenance": [],
      "authorship_tag": "ABX9TyOvP0ORfVHVP5ry2EcK3ZpA",
      "include_colab_link": true
    },
    "kernelspec": {
      "name": "python3",
      "display_name": "Python 3"
    },
    "language_info": {
      "name": "python"
    }
  },
  "cells": [
    {
      "cell_type": "markdown",
      "metadata": {
        "id": "view-in-github",
        "colab_type": "text"
      },
      "source": [
        "<a href=\"https://colab.research.google.com/github/dragon7268/ABCD-A/blob/20250307/Untitled0.ipynb\" target=\"_parent\"><img src=\"https://colab.research.google.com/assets/colab-badge.svg\" alt=\"Open In Colab\"/></a>"
      ]
    },
    {
      "cell_type": "code",
      "execution_count": null,
      "metadata": {
        "colab": {
          "base_uri": "https://localhost:8080/"
        },
        "id": "VUAyq2DcWd2a",
        "outputId": "be388f69-aa8a-44c1-add7-5ac05de66d52"
      },
      "outputs": [
        {
          "output_type": "stream",
          "name": "stdout",
          "text": [
            "100000\n"
          ]
        }
      ],
      "source": [
        "watch = 100000\n",
        "print(watch)"
      ]
    },
    {
      "cell_type": "code",
      "source": [
        "a='pig'\n",
        "b='dad'\n",
        "print(a)\n",
        "print(b)\n",
        "print(a+b)\n",
        "print(a+' '+b)"
      ],
      "metadata": {
        "colab": {
          "base_uri": "https://localhost:8080/"
        },
        "id": "PbzP9vtvYVG6",
        "outputId": "fd281289-7775-4d7d-8c7c-f03809505f98"
      },
      "execution_count": null,
      "outputs": [
        {
          "output_type": "stream",
          "name": "stdout",
          "text": [
            "pig\n",
            "dad\n",
            "pigdad\n",
            "pig dad\n"
          ]
        }
      ]
    },
    {
      "cell_type": "code",
      "source": [
        "a = 10\n",
        "a,b = (10,20)\n",
        "[a,b] = [10,20]\n",
        "a = b = 10\n",
        "a = None"
      ],
      "metadata": {
        "id": "Fc08QYw90QH2"
      },
      "execution_count": 10,
      "outputs": []
    },
    {
      "cell_type": "code",
      "source": [
        "a = 10\n",
        "b = 2000\n",
        "a,b = b,a"
      ],
      "metadata": {
        "id": "22cvrjMrJiuD"
      },
      "execution_count": 6,
      "outputs": []
    },
    {
      "cell_type": "code",
      "source": [
        "a = [10, 20, 30]"
      ],
      "metadata": {
        "id": "MMXxZVAVNrG1"
      },
      "execution_count": 11,
      "outputs": []
    },
    {
      "cell_type": "code",
      "source": [
        "a = [10, 20, 30]\n",
        "b = a"
      ],
      "metadata": {
        "id": "XTR_u6aSNzWV"
      },
      "execution_count": 12,
      "outputs": []
    },
    {
      "cell_type": "code",
      "source": [
        "#예제입니다\n",
        "a = [10, 20, 30]\n",
        "b = a\n",
        "a[0] = 200\n",
        "print(b)"
      ],
      "metadata": {
        "colab": {
          "base_uri": "https://localhost:8080/"
        },
        "id": "_27qjUb6LWbd",
        "outputId": "493f7bed-f15c-43ef-a02e-58c36bfe388d"
      },
      "execution_count": 14,
      "outputs": [
        {
          "output_type": "stream",
          "name": "stdout",
          "text": [
            "[200, 20, 30]\n"
          ]
        }
      ]
    },
    {
      "cell_type": "code",
      "source": [
        "print(\"Hello Word\")\n",
        "print(1)\n",
        "a = 1\n",
        "print(a)"
      ],
      "metadata": {
        "colab": {
          "base_uri": "https://localhost:8080/"
        },
        "id": "q2ziK4PxTM8i",
        "outputId": "bdf638d7-1022-4501-f2b9-ebab0390387d"
      },
      "execution_count": 31,
      "outputs": [
        {
          "output_type": "stream",
          "name": "stdout",
          "text": [
            "Hello Word\n",
            "1\n",
            "1\n"
          ]
        }
      ]
    },
    {
      "cell_type": "code",
      "source": [
        "print(\"a=\"+str(a))\n",
        "print(\"a=\", a)\n",
        "print( \"a={}\".format(a))"
      ],
      "metadata": {
        "colab": {
          "base_uri": "https://localhost:8080/"
        },
        "id": "VOZX-DhgUT6A",
        "outputId": "6ec74a62-2ad6-4ae1-e5db-9715fc0a7454"
      },
      "execution_count": 32,
      "outputs": [
        {
          "output_type": "stream",
          "name": "stdout",
          "text": [
            "a=1\n",
            "a= 1\n",
            "a=1\n"
          ]
        }
      ]
    },
    {
      "cell_type": "code",
      "source": [
        "a = [10,20,30]\n",
        "b = 1\n",
        "c = 2\n",
        "print(a)\n",
        "print(\"a={}\".format(a))\n",
        "print(\"b={}\".format(b))\n",
        "print(\"a={},b={},c={}\".format(a,b,c))"
      ],
      "metadata": {
        "colab": {
          "base_uri": "https://localhost:8080/"
        },
        "id": "lE50BM9oXj-v",
        "outputId": "ce29b5e2-138e-4be7-c155-d714aa6a1707"
      },
      "execution_count": 41,
      "outputs": [
        {
          "output_type": "stream",
          "name": "stdout",
          "text": [
            "[10, 20, 30]\n",
            "a=[10, 20, 30]\n",
            "b=1\n",
            "a=[10, 20, 30],b=1,c=2\n"
          ]
        }
      ]
    }
  ]
}